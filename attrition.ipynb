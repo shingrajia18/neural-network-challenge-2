{
  "cells": [
    {
      "cell_type": "markdown",
      "metadata": {
        "id": "view-in-github",
        "colab_type": "text"
      },
      "source": [
        "<a href=\"https://colab.research.google.com/github/shingrajia18/neural-network-challenge-2/blob/main/attrition.ipynb\" target=\"_parent\"><img src=\"https://colab.research.google.com/assets/colab-badge.svg\" alt=\"Open In Colab\"/></a>"
      ]
    },
    {
      "cell_type": "markdown",
      "metadata": {
        "id": "alIIEHibGc3M"
      },
      "source": [
        "## Part 1: Preprocessing"
      ]
    },
    {
      "cell_type": "code",
      "execution_count": 1,
      "metadata": {
        "colab": {
          "base_uri": "https://localhost:8080/",
          "height": 325
        },
        "id": "6eDUJ4NtGc3P",
        "outputId": "00f30a87-f123-4d3e-ece4-394e09016c5d"
      },
      "outputs": [
        {
          "output_type": "execute_result",
          "data": {
            "text/plain": [
              "   Age Attrition     BusinessTravel              Department  DistanceFromHome  \\\n",
              "0   41       Yes      Travel_Rarely                   Sales                 1   \n",
              "1   49        No  Travel_Frequently  Research & Development                 8   \n",
              "2   37       Yes      Travel_Rarely  Research & Development                 2   \n",
              "3   33        No  Travel_Frequently  Research & Development                 3   \n",
              "4   27        No      Travel_Rarely  Research & Development                 2   \n",
              "\n",
              "   Education EducationField  EnvironmentSatisfaction  HourlyRate  \\\n",
              "0          2  Life Sciences                        2          94   \n",
              "1          1  Life Sciences                        3          61   \n",
              "2          2          Other                        4          92   \n",
              "3          4  Life Sciences                        4          56   \n",
              "4          1        Medical                        1          40   \n",
              "\n",
              "   JobInvolvement  ...  PerformanceRating RelationshipSatisfaction  \\\n",
              "0               3  ...                  3                        1   \n",
              "1               2  ...                  4                        4   \n",
              "2               2  ...                  3                        2   \n",
              "3               3  ...                  3                        3   \n",
              "4               3  ...                  3                        4   \n",
              "\n",
              "   StockOptionLevel TotalWorkingYears  TrainingTimesLastYear WorkLifeBalance  \\\n",
              "0                 0                 8                      0               1   \n",
              "1                 1                10                      3               3   \n",
              "2                 0                 7                      3               3   \n",
              "3                 0                 8                      3               3   \n",
              "4                 1                 6                      3               3   \n",
              "\n",
              "   YearsAtCompany  YearsInCurrentRole  YearsSinceLastPromotion  \\\n",
              "0               6                   4                        0   \n",
              "1              10                   7                        1   \n",
              "2               0                   0                        0   \n",
              "3               8                   7                        3   \n",
              "4               2                   2                        2   \n",
              "\n",
              "   YearsWithCurrManager  \n",
              "0                     5  \n",
              "1                     7  \n",
              "2                     0  \n",
              "3                     0  \n",
              "4                     2  \n",
              "\n",
              "[5 rows x 27 columns]"
            ],
            "text/html": [
              "\n",
              "  <div id=\"df-7ea1c6f3-f922-4db4-a12c-aaef0d6b3d40\" class=\"colab-df-container\">\n",
              "    <div>\n",
              "<style scoped>\n",
              "    .dataframe tbody tr th:only-of-type {\n",
              "        vertical-align: middle;\n",
              "    }\n",
              "\n",
              "    .dataframe tbody tr th {\n",
              "        vertical-align: top;\n",
              "    }\n",
              "\n",
              "    .dataframe thead th {\n",
              "        text-align: right;\n",
              "    }\n",
              "</style>\n",
              "<table border=\"1\" class=\"dataframe\">\n",
              "  <thead>\n",
              "    <tr style=\"text-align: right;\">\n",
              "      <th></th>\n",
              "      <th>Age</th>\n",
              "      <th>Attrition</th>\n",
              "      <th>BusinessTravel</th>\n",
              "      <th>Department</th>\n",
              "      <th>DistanceFromHome</th>\n",
              "      <th>Education</th>\n",
              "      <th>EducationField</th>\n",
              "      <th>EnvironmentSatisfaction</th>\n",
              "      <th>HourlyRate</th>\n",
              "      <th>JobInvolvement</th>\n",
              "      <th>...</th>\n",
              "      <th>PerformanceRating</th>\n",
              "      <th>RelationshipSatisfaction</th>\n",
              "      <th>StockOptionLevel</th>\n",
              "      <th>TotalWorkingYears</th>\n",
              "      <th>TrainingTimesLastYear</th>\n",
              "      <th>WorkLifeBalance</th>\n",
              "      <th>YearsAtCompany</th>\n",
              "      <th>YearsInCurrentRole</th>\n",
              "      <th>YearsSinceLastPromotion</th>\n",
              "      <th>YearsWithCurrManager</th>\n",
              "    </tr>\n",
              "  </thead>\n",
              "  <tbody>\n",
              "    <tr>\n",
              "      <th>0</th>\n",
              "      <td>41</td>\n",
              "      <td>Yes</td>\n",
              "      <td>Travel_Rarely</td>\n",
              "      <td>Sales</td>\n",
              "      <td>1</td>\n",
              "      <td>2</td>\n",
              "      <td>Life Sciences</td>\n",
              "      <td>2</td>\n",
              "      <td>94</td>\n",
              "      <td>3</td>\n",
              "      <td>...</td>\n",
              "      <td>3</td>\n",
              "      <td>1</td>\n",
              "      <td>0</td>\n",
              "      <td>8</td>\n",
              "      <td>0</td>\n",
              "      <td>1</td>\n",
              "      <td>6</td>\n",
              "      <td>4</td>\n",
              "      <td>0</td>\n",
              "      <td>5</td>\n",
              "    </tr>\n",
              "    <tr>\n",
              "      <th>1</th>\n",
              "      <td>49</td>\n",
              "      <td>No</td>\n",
              "      <td>Travel_Frequently</td>\n",
              "      <td>Research &amp; Development</td>\n",
              "      <td>8</td>\n",
              "      <td>1</td>\n",
              "      <td>Life Sciences</td>\n",
              "      <td>3</td>\n",
              "      <td>61</td>\n",
              "      <td>2</td>\n",
              "      <td>...</td>\n",
              "      <td>4</td>\n",
              "      <td>4</td>\n",
              "      <td>1</td>\n",
              "      <td>10</td>\n",
              "      <td>3</td>\n",
              "      <td>3</td>\n",
              "      <td>10</td>\n",
              "      <td>7</td>\n",
              "      <td>1</td>\n",
              "      <td>7</td>\n",
              "    </tr>\n",
              "    <tr>\n",
              "      <th>2</th>\n",
              "      <td>37</td>\n",
              "      <td>Yes</td>\n",
              "      <td>Travel_Rarely</td>\n",
              "      <td>Research &amp; Development</td>\n",
              "      <td>2</td>\n",
              "      <td>2</td>\n",
              "      <td>Other</td>\n",
              "      <td>4</td>\n",
              "      <td>92</td>\n",
              "      <td>2</td>\n",
              "      <td>...</td>\n",
              "      <td>3</td>\n",
              "      <td>2</td>\n",
              "      <td>0</td>\n",
              "      <td>7</td>\n",
              "      <td>3</td>\n",
              "      <td>3</td>\n",
              "      <td>0</td>\n",
              "      <td>0</td>\n",
              "      <td>0</td>\n",
              "      <td>0</td>\n",
              "    </tr>\n",
              "    <tr>\n",
              "      <th>3</th>\n",
              "      <td>33</td>\n",
              "      <td>No</td>\n",
              "      <td>Travel_Frequently</td>\n",
              "      <td>Research &amp; Development</td>\n",
              "      <td>3</td>\n",
              "      <td>4</td>\n",
              "      <td>Life Sciences</td>\n",
              "      <td>4</td>\n",
              "      <td>56</td>\n",
              "      <td>3</td>\n",
              "      <td>...</td>\n",
              "      <td>3</td>\n",
              "      <td>3</td>\n",
              "      <td>0</td>\n",
              "      <td>8</td>\n",
              "      <td>3</td>\n",
              "      <td>3</td>\n",
              "      <td>8</td>\n",
              "      <td>7</td>\n",
              "      <td>3</td>\n",
              "      <td>0</td>\n",
              "    </tr>\n",
              "    <tr>\n",
              "      <th>4</th>\n",
              "      <td>27</td>\n",
              "      <td>No</td>\n",
              "      <td>Travel_Rarely</td>\n",
              "      <td>Research &amp; Development</td>\n",
              "      <td>2</td>\n",
              "      <td>1</td>\n",
              "      <td>Medical</td>\n",
              "      <td>1</td>\n",
              "      <td>40</td>\n",
              "      <td>3</td>\n",
              "      <td>...</td>\n",
              "      <td>3</td>\n",
              "      <td>4</td>\n",
              "      <td>1</td>\n",
              "      <td>6</td>\n",
              "      <td>3</td>\n",
              "      <td>3</td>\n",
              "      <td>2</td>\n",
              "      <td>2</td>\n",
              "      <td>2</td>\n",
              "      <td>2</td>\n",
              "    </tr>\n",
              "  </tbody>\n",
              "</table>\n",
              "<p>5 rows × 27 columns</p>\n",
              "</div>\n",
              "    <div class=\"colab-df-buttons\">\n",
              "\n",
              "  <div class=\"colab-df-container\">\n",
              "    <button class=\"colab-df-convert\" onclick=\"convertToInteractive('df-7ea1c6f3-f922-4db4-a12c-aaef0d6b3d40')\"\n",
              "            title=\"Convert this dataframe to an interactive table.\"\n",
              "            style=\"display:none;\">\n",
              "\n",
              "  <svg xmlns=\"http://www.w3.org/2000/svg\" height=\"24px\" viewBox=\"0 -960 960 960\">\n",
              "    <path d=\"M120-120v-720h720v720H120Zm60-500h600v-160H180v160Zm220 220h160v-160H400v160Zm0 220h160v-160H400v160ZM180-400h160v-160H180v160Zm440 0h160v-160H620v160ZM180-180h160v-160H180v160Zm440 0h160v-160H620v160Z\"/>\n",
              "  </svg>\n",
              "    </button>\n",
              "\n",
              "  <style>\n",
              "    .colab-df-container {\n",
              "      display:flex;\n",
              "      gap: 12px;\n",
              "    }\n",
              "\n",
              "    .colab-df-convert {\n",
              "      background-color: #E8F0FE;\n",
              "      border: none;\n",
              "      border-radius: 50%;\n",
              "      cursor: pointer;\n",
              "      display: none;\n",
              "      fill: #1967D2;\n",
              "      height: 32px;\n",
              "      padding: 0 0 0 0;\n",
              "      width: 32px;\n",
              "    }\n",
              "\n",
              "    .colab-df-convert:hover {\n",
              "      background-color: #E2EBFA;\n",
              "      box-shadow: 0px 1px 2px rgba(60, 64, 67, 0.3), 0px 1px 3px 1px rgba(60, 64, 67, 0.15);\n",
              "      fill: #174EA6;\n",
              "    }\n",
              "\n",
              "    .colab-df-buttons div {\n",
              "      margin-bottom: 4px;\n",
              "    }\n",
              "\n",
              "    [theme=dark] .colab-df-convert {\n",
              "      background-color: #3B4455;\n",
              "      fill: #D2E3FC;\n",
              "    }\n",
              "\n",
              "    [theme=dark] .colab-df-convert:hover {\n",
              "      background-color: #434B5C;\n",
              "      box-shadow: 0px 1px 3px 1px rgba(0, 0, 0, 0.15);\n",
              "      filter: drop-shadow(0px 1px 2px rgba(0, 0, 0, 0.3));\n",
              "      fill: #FFFFFF;\n",
              "    }\n",
              "  </style>\n",
              "\n",
              "    <script>\n",
              "      const buttonEl =\n",
              "        document.querySelector('#df-7ea1c6f3-f922-4db4-a12c-aaef0d6b3d40 button.colab-df-convert');\n",
              "      buttonEl.style.display =\n",
              "        google.colab.kernel.accessAllowed ? 'block' : 'none';\n",
              "\n",
              "      async function convertToInteractive(key) {\n",
              "        const element = document.querySelector('#df-7ea1c6f3-f922-4db4-a12c-aaef0d6b3d40');\n",
              "        const dataTable =\n",
              "          await google.colab.kernel.invokeFunction('convertToInteractive',\n",
              "                                                    [key], {});\n",
              "        if (!dataTable) return;\n",
              "\n",
              "        const docLinkHtml = 'Like what you see? Visit the ' +\n",
              "          '<a target=\"_blank\" href=https://colab.research.google.com/notebooks/data_table.ipynb>data table notebook</a>'\n",
              "          + ' to learn more about interactive tables.';\n",
              "        element.innerHTML = '';\n",
              "        dataTable['output_type'] = 'display_data';\n",
              "        await google.colab.output.renderOutput(dataTable, element);\n",
              "        const docLink = document.createElement('div');\n",
              "        docLink.innerHTML = docLinkHtml;\n",
              "        element.appendChild(docLink);\n",
              "      }\n",
              "    </script>\n",
              "  </div>\n",
              "\n",
              "\n",
              "<div id=\"df-f3072c44-f72d-4270-a4ca-e5c04b2ce2d7\">\n",
              "  <button class=\"colab-df-quickchart\" onclick=\"quickchart('df-f3072c44-f72d-4270-a4ca-e5c04b2ce2d7')\"\n",
              "            title=\"Suggest charts\"\n",
              "            style=\"display:none;\">\n",
              "\n",
              "<svg xmlns=\"http://www.w3.org/2000/svg\" height=\"24px\"viewBox=\"0 0 24 24\"\n",
              "     width=\"24px\">\n",
              "    <g>\n",
              "        <path d=\"M19 3H5c-1.1 0-2 .9-2 2v14c0 1.1.9 2 2 2h14c1.1 0 2-.9 2-2V5c0-1.1-.9-2-2-2zM9 17H7v-7h2v7zm4 0h-2V7h2v10zm4 0h-2v-4h2v4z\"/>\n",
              "    </g>\n",
              "</svg>\n",
              "  </button>\n",
              "\n",
              "<style>\n",
              "  .colab-df-quickchart {\n",
              "      --bg-color: #E8F0FE;\n",
              "      --fill-color: #1967D2;\n",
              "      --hover-bg-color: #E2EBFA;\n",
              "      --hover-fill-color: #174EA6;\n",
              "      --disabled-fill-color: #AAA;\n",
              "      --disabled-bg-color: #DDD;\n",
              "  }\n",
              "\n",
              "  [theme=dark] .colab-df-quickchart {\n",
              "      --bg-color: #3B4455;\n",
              "      --fill-color: #D2E3FC;\n",
              "      --hover-bg-color: #434B5C;\n",
              "      --hover-fill-color: #FFFFFF;\n",
              "      --disabled-bg-color: #3B4455;\n",
              "      --disabled-fill-color: #666;\n",
              "  }\n",
              "\n",
              "  .colab-df-quickchart {\n",
              "    background-color: var(--bg-color);\n",
              "    border: none;\n",
              "    border-radius: 50%;\n",
              "    cursor: pointer;\n",
              "    display: none;\n",
              "    fill: var(--fill-color);\n",
              "    height: 32px;\n",
              "    padding: 0;\n",
              "    width: 32px;\n",
              "  }\n",
              "\n",
              "  .colab-df-quickchart:hover {\n",
              "    background-color: var(--hover-bg-color);\n",
              "    box-shadow: 0 1px 2px rgba(60, 64, 67, 0.3), 0 1px 3px 1px rgba(60, 64, 67, 0.15);\n",
              "    fill: var(--button-hover-fill-color);\n",
              "  }\n",
              "\n",
              "  .colab-df-quickchart-complete:disabled,\n",
              "  .colab-df-quickchart-complete:disabled:hover {\n",
              "    background-color: var(--disabled-bg-color);\n",
              "    fill: var(--disabled-fill-color);\n",
              "    box-shadow: none;\n",
              "  }\n",
              "\n",
              "  .colab-df-spinner {\n",
              "    border: 2px solid var(--fill-color);\n",
              "    border-color: transparent;\n",
              "    border-bottom-color: var(--fill-color);\n",
              "    animation:\n",
              "      spin 1s steps(1) infinite;\n",
              "  }\n",
              "\n",
              "  @keyframes spin {\n",
              "    0% {\n",
              "      border-color: transparent;\n",
              "      border-bottom-color: var(--fill-color);\n",
              "      border-left-color: var(--fill-color);\n",
              "    }\n",
              "    20% {\n",
              "      border-color: transparent;\n",
              "      border-left-color: var(--fill-color);\n",
              "      border-top-color: var(--fill-color);\n",
              "    }\n",
              "    30% {\n",
              "      border-color: transparent;\n",
              "      border-left-color: var(--fill-color);\n",
              "      border-top-color: var(--fill-color);\n",
              "      border-right-color: var(--fill-color);\n",
              "    }\n",
              "    40% {\n",
              "      border-color: transparent;\n",
              "      border-right-color: var(--fill-color);\n",
              "      border-top-color: var(--fill-color);\n",
              "    }\n",
              "    60% {\n",
              "      border-color: transparent;\n",
              "      border-right-color: var(--fill-color);\n",
              "    }\n",
              "    80% {\n",
              "      border-color: transparent;\n",
              "      border-right-color: var(--fill-color);\n",
              "      border-bottom-color: var(--fill-color);\n",
              "    }\n",
              "    90% {\n",
              "      border-color: transparent;\n",
              "      border-bottom-color: var(--fill-color);\n",
              "    }\n",
              "  }\n",
              "</style>\n",
              "\n",
              "  <script>\n",
              "    async function quickchart(key) {\n",
              "      const quickchartButtonEl =\n",
              "        document.querySelector('#' + key + ' button');\n",
              "      quickchartButtonEl.disabled = true;  // To prevent multiple clicks.\n",
              "      quickchartButtonEl.classList.add('colab-df-spinner');\n",
              "      try {\n",
              "        const charts = await google.colab.kernel.invokeFunction(\n",
              "            'suggestCharts', [key], {});\n",
              "      } catch (error) {\n",
              "        console.error('Error during call to suggestCharts:', error);\n",
              "      }\n",
              "      quickchartButtonEl.classList.remove('colab-df-spinner');\n",
              "      quickchartButtonEl.classList.add('colab-df-quickchart-complete');\n",
              "    }\n",
              "    (() => {\n",
              "      let quickchartButtonEl =\n",
              "        document.querySelector('#df-f3072c44-f72d-4270-a4ca-e5c04b2ce2d7 button');\n",
              "      quickchartButtonEl.style.display =\n",
              "        google.colab.kernel.accessAllowed ? 'block' : 'none';\n",
              "    })();\n",
              "  </script>\n",
              "</div>\n",
              "\n",
              "    </div>\n",
              "  </div>\n"
            ],
            "application/vnd.google.colaboratory.intrinsic+json": {
              "type": "dataframe",
              "variable_name": "attrition_df"
            }
          },
          "metadata": {},
          "execution_count": 1
        }
      ],
      "source": [
        "# Import our dependencies\n",
        "from sklearn.model_selection import train_test_split\n",
        "from sklearn.preprocessing import StandardScaler\n",
        "import pandas as pd\n",
        "import numpy as np\n",
        "from tensorflow.keras.models import Model\n",
        "from tensorflow.keras import layers\n",
        "\n",
        "#  Import and read the attrition data\n",
        "attrition_df = pd.read_csv('https://static.bc-edx.com/ai/ail-v-1-0/m19/lms/datasets/attrition.csv')\n",
        "attrition_df.head()"
      ]
    },
    {
      "cell_type": "code",
      "execution_count": 2,
      "metadata": {
        "colab": {
          "base_uri": "https://localhost:8080/"
        },
        "id": "g22aQSY4Gc3Q",
        "outputId": "637b6795-2819-4008-a87b-a8157b9d2791"
      },
      "outputs": [
        {
          "output_type": "execute_result",
          "data": {
            "text/plain": [
              "Age                         43\n",
              "Attrition                    2\n",
              "BusinessTravel               3\n",
              "Department                   3\n",
              "DistanceFromHome            29\n",
              "Education                    5\n",
              "EducationField               6\n",
              "EnvironmentSatisfaction      4\n",
              "HourlyRate                  71\n",
              "JobInvolvement               4\n",
              "JobLevel                     5\n",
              "JobRole                      9\n",
              "JobSatisfaction              4\n",
              "MaritalStatus                3\n",
              "NumCompaniesWorked          10\n",
              "OverTime                     2\n",
              "PercentSalaryHike           15\n",
              "PerformanceRating            2\n",
              "RelationshipSatisfaction     4\n",
              "StockOptionLevel             4\n",
              "TotalWorkingYears           40\n",
              "TrainingTimesLastYear        7\n",
              "WorkLifeBalance              4\n",
              "YearsAtCompany              37\n",
              "YearsInCurrentRole          19\n",
              "YearsSinceLastPromotion     16\n",
              "YearsWithCurrManager        18\n",
              "dtype: int64"
            ]
          },
          "metadata": {},
          "execution_count": 2
        }
      ],
      "source": [
        "# Determine the number of unique values in each column.\n",
        "attrition_df.nunique()"
      ]
    },
    {
      "cell_type": "code",
      "execution_count": 3,
      "metadata": {
        "id": "50vMgBEnJbfM",
        "colab": {
          "base_uri": "https://localhost:8080/"
        },
        "outputId": "de8e93ae-f7a7-4167-9fa8-8c3e06565b31"
      },
      "outputs": [
        {
          "output_type": "stream",
          "name": "stdout",
          "text": [
            "Attrition     object\n",
            "Department    object\n",
            "dtype: object\n"
          ]
        }
      ],
      "source": [
        "# Create y_df with the Attrition and Department columns\n",
        "y_df = attrition_df[['Attrition', 'Department']]\n",
        "print(y_df.dtypes)\n"
      ]
    },
    {
      "cell_type": "code",
      "execution_count": 4,
      "metadata": {
        "colab": {
          "base_uri": "https://localhost:8080/"
        },
        "id": "Virka0zLGc3R",
        "outputId": "d6754876-2a5b-428b-c3db-17a029c059c0"
      },
      "outputs": [
        {
          "output_type": "stream",
          "name": "stdout",
          "text": [
            "Education                  int64\n",
            "Age                        int64\n",
            "DistanceFromHome           int64\n",
            "JobSatisfaction            int64\n",
            "StockOptionLevel           int64\n",
            "WorkLifeBalance            int64\n",
            "YearsAtCompany             int64\n",
            "YearsSinceLastPromotion    int64\n",
            "NumCompaniesWorked         int64\n",
            "OverTime_No                int64\n",
            "OverTime_Yes               int64\n",
            "dtype: object\n"
          ]
        }
      ],
      "source": [
        "# Create a list of at least 10 column names to use as X data\n",
        "columns = [\"Education\", \"Age\", \"DistanceFromHome\", \"JobSatisfaction\", \"OverTime\", \"StockOptionLevel\", \"WorkLifeBalance\", \"YearsAtCompany\", \"YearsSinceLastPromotion\", \"NumCompaniesWorked\"]\n",
        "\n",
        "\n",
        "\n",
        "# Create X_df using your selected columns\n",
        "X_df = attrition_df[columns]\n",
        "\n",
        "X_df = pd.get_dummies(X_df, columns=[\"OverTime\"], dtype=int)\n",
        "\n",
        "# Show the data types for X_df\n",
        "print(X_df.dtypes)\n"
      ]
    },
    {
      "cell_type": "code",
      "execution_count": 5,
      "metadata": {
        "id": "KaJfdOGUMHMR"
      },
      "outputs": [],
      "source": [
        "# Split the data into training and testing sets\n",
        "from sklearn.model_selection import train_test_split\n",
        "X_train, X_test, y_train, y_test = train_test_split(X_df, y_df, random_state=78)\n"
      ]
    },
    {
      "cell_type": "code",
      "execution_count": 6,
      "metadata": {
        "colab": {
          "base_uri": "https://localhost:8080/"
        },
        "id": "NYubUJqiLCSp",
        "outputId": "2f513211-f6e0-4e4d-c6ac-2a3a07566cff"
      },
      "outputs": [
        {
          "output_type": "stream",
          "name": "stdout",
          "text": [
            "(1102, 11) (368, 11) (1102, 2) (368, 2)\n"
          ]
        }
      ],
      "source": [
        "# Convert your X data to numeric data types however you see fit\n",
        "X_train = X_train.astype('int64')\n",
        "X_test = X_test.astype('int64')\n",
        "\n",
        "# Add new code cells as necessary\n",
        "print(X_train.shape, X_test.shape, y_train.shape, y_test.shape)"
      ]
    },
    {
      "cell_type": "code",
      "execution_count": 7,
      "metadata": {
        "id": "EWA-aIA5Gc3T"
      },
      "outputs": [],
      "source": [
        "# Create a StandardScaler\n",
        "scaler = StandardScaler()\n",
        "\n",
        "# Fit the StandardScaler to the training data\n",
        "X_scaler = scaler.fit(X_train)\n",
        "\n",
        "# Scale the training and testing data\n",
        "X_train_scaled = X_scaler.transform(X_train)\n",
        "X_test_scaled = X_scaler.transform(X_test)\n"
      ]
    },
    {
      "cell_type": "code",
      "execution_count": 8,
      "metadata": {
        "colab": {
          "base_uri": "https://localhost:8080/"
        },
        "id": "-z0Mky8vQSz4",
        "outputId": "33f57944-eb23-4422-9f96-870a15344be7"
      },
      "outputs": [
        {
          "output_type": "execute_result",
          "data": {
            "text/plain": [
              "array([[0., 1., 0.],\n",
              "       [0., 1., 0.],\n",
              "       [0., 1., 0.],\n",
              "       [0., 1., 0.],\n",
              "       [0., 1., 0.]])"
            ]
          },
          "metadata": {},
          "execution_count": 8
        }
      ],
      "source": [
        "# Create a OneHotEncoder for the Department column\n",
        "from sklearn.preprocessing import OneHotEncoder\n",
        "enc_Department = OneHotEncoder(sparse_output=False)\n",
        "\n",
        "# Fit the encoder to the training data\n",
        "enc_Department.fit(y_train['Department'].values.reshape(-1, 1))\n",
        "\n",
        "# Create two new variables by applying the encoder to the training and testing data\n",
        "y_train_encoded_Department = enc_Department.transform(y_train['Department'].values.reshape(-1, 1))\n",
        "y_test_encoded_Department = enc_Department.transform(y_test['Department'].values.reshape(-1, 1))\n",
        "\n",
        "\n",
        "y_test_encoded_Department[:5]\n",
        "\n"
      ]
    },
    {
      "cell_type": "code",
      "execution_count": 9,
      "metadata": {
        "colab": {
          "base_uri": "https://localhost:8080/"
        },
        "id": "-G4DSpvFRrk4",
        "outputId": "ee3bbf4e-4473-48aa-8821-f1c80156f061"
      },
      "outputs": [
        {
          "output_type": "execute_result",
          "data": {
            "text/plain": [
              "array([[1., 0.],\n",
              "       [1., 0.],\n",
              "       [1., 0.],\n",
              "       [1., 0.],\n",
              "       [0., 1.]])"
            ]
          },
          "metadata": {},
          "execution_count": 9
        }
      ],
      "source": [
        "# Create a OneHotEncoder for the Attrition column\n",
        "enc_Attrition = OneHotEncoder(sparse_output=False)\n",
        "\n",
        "# Fit the encoder to the training data\n",
        "enc_Attrition.fit(y_train['Attrition'].values.reshape(-1, 1))\n",
        "\n",
        "# Create two new variables by applying the encoder to the training and testing data\n",
        "y_train_encoded_Attrition = enc_Attrition.transform(y_train['Attrition'].values.reshape(-1, 1))\n",
        "y_test_encoded_Attrition = enc_Attrition.transform(y_test['Attrition'].values.reshape(-1, 1))\n",
        "\n",
        "y_test_encoded_Attrition[:5]\n"
      ]
    },
    {
      "cell_type": "markdown",
      "metadata": {
        "id": "ykNmu_WWGc3T"
      },
      "source": [
        "## Create, Compile, and Train the Model"
      ]
    },
    {
      "cell_type": "code",
      "execution_count": 10,
      "metadata": {
        "id": "WUptZqmSGc3T"
      },
      "outputs": [],
      "source": [
        "# Find the number of columns in the X training data\n",
        "input_features = X_train_scaled.shape[1]\n",
        "\n",
        "# Create the input layer\n",
        "inputs = layers.Input(shape=(input_features))\n",
        "\n",
        "# Create at least two shared layers\n",
        "shared_1 = layers.Dense(64, activation='relu', name='shared1')(inputs)\n",
        "shared_2 = layers.Dense(128, activation='relu', name='shared2')(shared_1)"
      ]
    },
    {
      "cell_type": "code",
      "execution_count": 11,
      "metadata": {
        "id": "JukjTm2yTEqd"
      },
      "outputs": [],
      "source": [
        "# Create a branch for Department with a hidden layer and an output layer\n",
        "\n",
        "# Create the hidden layer\n",
        "hidden_1 = layers.Dense(32, activation='relu', name='department_hidden')(shared_2)\n",
        "\n",
        "\n",
        "# Create the output layer\n",
        "output_1 = layers.Dense(3, activation='softmax', name='department_output')(hidden_1)\n"
      ]
    },
    {
      "cell_type": "code",
      "execution_count": 12,
      "metadata": {
        "id": "9OqhUiOJUBkR"
      },
      "outputs": [],
      "source": [
        "# Create a branch for Attrition with a hidden layer and an output layer\n",
        "\n",
        "# Create the hidden layer\n",
        "hidden_2 = layers.Dense(32, activation='relu', name='attrition_hidden')(shared_2)\n",
        "\n",
        "# Create the output layer\n",
        "output_2 = layers.Dense(2, activation='sigmoid', name='attrition_output')(hidden_2)\n"
      ]
    },
    {
      "cell_type": "code",
      "execution_count": 13,
      "metadata": {
        "colab": {
          "base_uri": "https://localhost:8080/"
        },
        "id": "twmuejdxGc3T",
        "outputId": "bce7e167-70fe-4d78-d6d1-59f540b185d8"
      },
      "outputs": [
        {
          "output_type": "stream",
          "name": "stdout",
          "text": [
            "Model: \"model\"\n",
            "__________________________________________________________________________________________________\n",
            " Layer (type)                Output Shape                 Param #   Connected to                  \n",
            "==================================================================================================\n",
            " input_1 (InputLayer)        [(None, 11)]                 0         []                            \n",
            "                                                                                                  \n",
            " shared1 (Dense)             (None, 64)                   768       ['input_1[0][0]']             \n",
            "                                                                                                  \n",
            " shared2 (Dense)             (None, 128)                  8320      ['shared1[0][0]']             \n",
            "                                                                                                  \n",
            " department_hidden (Dense)   (None, 32)                   4128      ['shared2[0][0]']             \n",
            "                                                                                                  \n",
            " attrition_hidden (Dense)    (None, 32)                   4128      ['shared2[0][0]']             \n",
            "                                                                                                  \n",
            " department_output (Dense)   (None, 3)                    99        ['department_hidden[0][0]']   \n",
            "                                                                                                  \n",
            " attrition_output (Dense)    (None, 2)                    66        ['attrition_hidden[0][0]']    \n",
            "                                                                                                  \n",
            "==================================================================================================\n",
            "Total params: 17509 (68.39 KB)\n",
            "Trainable params: 17509 (68.39 KB)\n",
            "Non-trainable params: 0 (0.00 Byte)\n",
            "__________________________________________________________________________________________________\n"
          ]
        }
      ],
      "source": [
        "# Create the model\n",
        "model = Model(inputs=inputs, outputs=[output_1, output_2])\n",
        "\n",
        "# Compile the model\n",
        "model.compile(optimizer='adam',\n",
        "              loss={'department_output': 'categorical_crossentropy', 'attrition_output': 'binary_crossentropy'},\n",
        "              metrics={'department_output': 'accuracy', 'attrition_output': 'accuracy'})\n",
        "\n",
        "# Summarize the model\n",
        "model.summary()"
      ]
    },
    {
      "cell_type": "code",
      "execution_count": 14,
      "metadata": {
        "colab": {
          "base_uri": "https://localhost:8080/"
        },
        "id": "c8oGy0dpGc3U",
        "outputId": "e73175f7-f520-4c85-c8ef-ae80152c266b"
      },
      "outputs": [
        {
          "output_type": "stream",
          "name": "stdout",
          "text": [
            "Epoch 1/100\n",
            "35/35 - 1s - loss: 1.4208 - department_output_loss: 0.8519 - attrition_output_loss: 0.5689 - department_output_accuracy: 0.6062 - attrition_output_accuracy: 0.7477 - 1s/epoch - 36ms/step\n",
            "Epoch 2/100\n",
            "35/35 - 0s - loss: 1.2016 - department_output_loss: 0.7597 - attrition_output_loss: 0.4419 - department_output_accuracy: 0.6661 - attrition_output_accuracy: 0.8276 - 50ms/epoch - 1ms/step\n",
            "Epoch 3/100\n",
            "35/35 - 0s - loss: 1.1651 - department_output_loss: 0.7495 - attrition_output_loss: 0.4156 - department_output_accuracy: 0.6624 - attrition_output_accuracy: 0.8303 - 49ms/epoch - 1ms/step\n",
            "Epoch 4/100\n",
            "35/35 - 0s - loss: 1.1365 - department_output_loss: 0.7395 - attrition_output_loss: 0.3970 - department_output_accuracy: 0.6679 - attrition_output_accuracy: 0.8421 - 47ms/epoch - 1ms/step\n",
            "Epoch 5/100\n",
            "35/35 - 0s - loss: 1.1204 - department_output_loss: 0.7344 - attrition_output_loss: 0.3860 - department_output_accuracy: 0.6706 - attrition_output_accuracy: 0.8466 - 65ms/epoch - 2ms/step\n",
            "Epoch 6/100\n",
            "35/35 - 0s - loss: 1.1037 - department_output_loss: 0.7268 - attrition_output_loss: 0.3769 - department_output_accuracy: 0.6679 - attrition_output_accuracy: 0.8539 - 59ms/epoch - 2ms/step\n",
            "Epoch 7/100\n",
            "35/35 - 0s - loss: 1.0918 - department_output_loss: 0.7220 - attrition_output_loss: 0.3697 - department_output_accuracy: 0.6706 - attrition_output_accuracy: 0.8621 - 51ms/epoch - 1ms/step\n",
            "Epoch 8/100\n",
            "35/35 - 0s - loss: 1.0752 - department_output_loss: 0.7150 - attrition_output_loss: 0.3602 - department_output_accuracy: 0.6724 - attrition_output_accuracy: 0.8648 - 49ms/epoch - 1ms/step\n",
            "Epoch 9/100\n",
            "35/35 - 0s - loss: 1.0570 - department_output_loss: 0.7063 - attrition_output_loss: 0.3507 - department_output_accuracy: 0.6733 - attrition_output_accuracy: 0.8612 - 52ms/epoch - 1ms/step\n",
            "Epoch 10/100\n",
            "35/35 - 0s - loss: 1.0409 - department_output_loss: 0.6961 - attrition_output_loss: 0.3447 - department_output_accuracy: 0.6860 - attrition_output_accuracy: 0.8657 - 53ms/epoch - 2ms/step\n",
            "Epoch 11/100\n",
            "35/35 - 0s - loss: 1.0299 - department_output_loss: 0.6927 - attrition_output_loss: 0.3371 - department_output_accuracy: 0.6842 - attrition_output_accuracy: 0.8702 - 52ms/epoch - 1ms/step\n",
            "Epoch 12/100\n",
            "35/35 - 0s - loss: 1.0129 - department_output_loss: 0.6805 - attrition_output_loss: 0.3324 - department_output_accuracy: 0.6897 - attrition_output_accuracy: 0.8702 - 53ms/epoch - 2ms/step\n",
            "Epoch 13/100\n",
            "35/35 - 0s - loss: 0.9979 - department_output_loss: 0.6721 - attrition_output_loss: 0.3258 - department_output_accuracy: 0.6933 - attrition_output_accuracy: 0.8721 - 48ms/epoch - 1ms/step\n",
            "Epoch 14/100\n",
            "35/35 - 0s - loss: 0.9866 - department_output_loss: 0.6650 - attrition_output_loss: 0.3216 - department_output_accuracy: 0.6996 - attrition_output_accuracy: 0.8766 - 48ms/epoch - 1ms/step\n",
            "Epoch 15/100\n",
            "35/35 - 0s - loss: 0.9817 - department_output_loss: 0.6643 - attrition_output_loss: 0.3174 - department_output_accuracy: 0.6788 - attrition_output_accuracy: 0.8802 - 56ms/epoch - 2ms/step\n",
            "Epoch 16/100\n",
            "35/35 - 0s - loss: 0.9587 - department_output_loss: 0.6473 - attrition_output_loss: 0.3115 - department_output_accuracy: 0.7114 - attrition_output_accuracy: 0.8820 - 49ms/epoch - 1ms/step\n",
            "Epoch 17/100\n",
            "35/35 - 0s - loss: 0.9410 - department_output_loss: 0.6332 - attrition_output_loss: 0.3078 - department_output_accuracy: 0.7278 - attrition_output_accuracy: 0.8757 - 48ms/epoch - 1ms/step\n",
            "Epoch 18/100\n",
            "35/35 - 0s - loss: 0.9280 - department_output_loss: 0.6258 - attrition_output_loss: 0.3022 - department_output_accuracy: 0.7223 - attrition_output_accuracy: 0.8838 - 51ms/epoch - 1ms/step\n",
            "Epoch 19/100\n",
            "35/35 - 0s - loss: 0.9065 - department_output_loss: 0.6116 - attrition_output_loss: 0.2949 - department_output_accuracy: 0.7287 - attrition_output_accuracy: 0.8866 - 54ms/epoch - 2ms/step\n",
            "Epoch 20/100\n",
            "35/35 - 0s - loss: 0.8842 - department_output_loss: 0.5971 - attrition_output_loss: 0.2871 - department_output_accuracy: 0.7314 - attrition_output_accuracy: 0.8893 - 49ms/epoch - 1ms/step\n",
            "Epoch 21/100\n",
            "35/35 - 0s - loss: 0.8705 - department_output_loss: 0.5894 - attrition_output_loss: 0.2811 - department_output_accuracy: 0.7532 - attrition_output_accuracy: 0.8902 - 58ms/epoch - 2ms/step\n",
            "Epoch 22/100\n",
            "35/35 - 0s - loss: 0.8550 - department_output_loss: 0.5784 - attrition_output_loss: 0.2766 - department_output_accuracy: 0.7514 - attrition_output_accuracy: 0.8911 - 54ms/epoch - 2ms/step\n",
            "Epoch 23/100\n",
            "35/35 - 0s - loss: 0.8357 - department_output_loss: 0.5607 - attrition_output_loss: 0.2750 - department_output_accuracy: 0.7595 - attrition_output_accuracy: 0.8966 - 76ms/epoch - 2ms/step\n",
            "Epoch 24/100\n",
            "35/35 - 0s - loss: 0.8221 - department_output_loss: 0.5517 - attrition_output_loss: 0.2705 - department_output_accuracy: 0.7505 - attrition_output_accuracy: 0.8947 - 57ms/epoch - 2ms/step\n",
            "Epoch 25/100\n",
            "35/35 - 0s - loss: 0.7936 - department_output_loss: 0.5296 - attrition_output_loss: 0.2639 - department_output_accuracy: 0.7813 - attrition_output_accuracy: 0.8984 - 44ms/epoch - 1ms/step\n",
            "Epoch 26/100\n",
            "35/35 - 0s - loss: 0.7801 - department_output_loss: 0.5158 - attrition_output_loss: 0.2643 - department_output_accuracy: 0.7822 - attrition_output_accuracy: 0.8975 - 44ms/epoch - 1ms/step\n",
            "Epoch 27/100\n",
            "35/35 - 0s - loss: 0.7504 - department_output_loss: 0.5015 - attrition_output_loss: 0.2489 - department_output_accuracy: 0.7886 - attrition_output_accuracy: 0.9056 - 47ms/epoch - 1ms/step\n",
            "Epoch 28/100\n",
            "35/35 - 0s - loss: 0.7402 - department_output_loss: 0.4912 - attrition_output_loss: 0.2490 - department_output_accuracy: 0.8031 - attrition_output_accuracy: 0.9038 - 45ms/epoch - 1ms/step\n",
            "Epoch 29/100\n",
            "35/35 - 0s - loss: 0.7175 - department_output_loss: 0.4748 - attrition_output_loss: 0.2427 - department_output_accuracy: 0.8022 - attrition_output_accuracy: 0.9038 - 45ms/epoch - 1ms/step\n",
            "Epoch 30/100\n",
            "35/35 - 0s - loss: 0.7003 - department_output_loss: 0.4615 - attrition_output_loss: 0.2389 - department_output_accuracy: 0.8131 - attrition_output_accuracy: 0.9102 - 48ms/epoch - 1ms/step\n",
            "Epoch 31/100\n",
            "35/35 - 0s - loss: 0.6748 - department_output_loss: 0.4429 - attrition_output_loss: 0.2319 - department_output_accuracy: 0.8276 - attrition_output_accuracy: 0.9065 - 46ms/epoch - 1ms/step\n",
            "Epoch 32/100\n",
            "35/35 - 0s - loss: 0.6685 - department_output_loss: 0.4383 - attrition_output_loss: 0.2302 - department_output_accuracy: 0.8321 - attrition_output_accuracy: 0.9074 - 48ms/epoch - 1ms/step\n",
            "Epoch 33/100\n",
            "35/35 - 0s - loss: 0.6356 - department_output_loss: 0.4148 - attrition_output_loss: 0.2207 - department_output_accuracy: 0.8412 - attrition_output_accuracy: 0.9129 - 47ms/epoch - 1ms/step\n",
            "Epoch 34/100\n",
            "35/35 - 0s - loss: 0.6439 - department_output_loss: 0.4259 - attrition_output_loss: 0.2180 - department_output_accuracy: 0.8267 - attrition_output_accuracy: 0.9156 - 48ms/epoch - 1ms/step\n",
            "Epoch 35/100\n",
            "35/35 - 0s - loss: 0.6108 - department_output_loss: 0.3955 - attrition_output_loss: 0.2152 - department_output_accuracy: 0.8548 - attrition_output_accuracy: 0.9201 - 50ms/epoch - 1ms/step\n",
            "Epoch 36/100\n",
            "35/35 - 0s - loss: 0.5987 - department_output_loss: 0.3906 - attrition_output_loss: 0.2081 - department_output_accuracy: 0.8512 - attrition_output_accuracy: 0.9211 - 51ms/epoch - 1ms/step\n",
            "Epoch 37/100\n",
            "35/35 - 0s - loss: 0.5647 - department_output_loss: 0.3657 - attrition_output_loss: 0.1990 - department_output_accuracy: 0.8603 - attrition_output_accuracy: 0.9183 - 49ms/epoch - 1ms/step\n",
            "Epoch 38/100\n",
            "35/35 - 0s - loss: 0.5608 - department_output_loss: 0.3640 - attrition_output_loss: 0.1968 - department_output_accuracy: 0.8648 - attrition_output_accuracy: 0.9292 - 48ms/epoch - 1ms/step\n",
            "Epoch 39/100\n",
            "35/35 - 0s - loss: 0.5362 - department_output_loss: 0.3385 - attrition_output_loss: 0.1977 - department_output_accuracy: 0.8748 - attrition_output_accuracy: 0.9156 - 49ms/epoch - 1ms/step\n",
            "Epoch 40/100\n",
            "35/35 - 0s - loss: 0.5288 - department_output_loss: 0.3373 - attrition_output_loss: 0.1915 - department_output_accuracy: 0.8684 - attrition_output_accuracy: 0.9229 - 48ms/epoch - 1ms/step\n",
            "Epoch 41/100\n",
            "35/35 - 0s - loss: 0.5124 - department_output_loss: 0.3209 - attrition_output_loss: 0.1915 - department_output_accuracy: 0.8857 - attrition_output_accuracy: 0.9183 - 69ms/epoch - 2ms/step\n",
            "Epoch 42/100\n",
            "35/35 - 0s - loss: 0.4812 - department_output_loss: 0.3000 - attrition_output_loss: 0.1812 - department_output_accuracy: 0.8966 - attrition_output_accuracy: 0.9265 - 76ms/epoch - 2ms/step\n",
            "Epoch 43/100\n",
            "35/35 - 0s - loss: 0.4665 - department_output_loss: 0.2887 - attrition_output_loss: 0.1777 - department_output_accuracy: 0.9002 - attrition_output_accuracy: 0.9292 - 52ms/epoch - 1ms/step\n",
            "Epoch 44/100\n",
            "35/35 - 0s - loss: 0.4551 - department_output_loss: 0.2849 - attrition_output_loss: 0.1702 - department_output_accuracy: 0.9102 - attrition_output_accuracy: 0.9328 - 56ms/epoch - 2ms/step\n",
            "Epoch 45/100\n",
            "35/35 - 0s - loss: 0.4344 - department_output_loss: 0.2703 - attrition_output_loss: 0.1641 - department_output_accuracy: 0.9138 - attrition_output_accuracy: 0.9383 - 54ms/epoch - 2ms/step\n",
            "Epoch 46/100\n",
            "35/35 - 0s - loss: 0.4134 - department_output_loss: 0.2540 - attrition_output_loss: 0.1594 - department_output_accuracy: 0.9183 - attrition_output_accuracy: 0.9392 - 49ms/epoch - 1ms/step\n",
            "Epoch 47/100\n",
            "35/35 - 0s - loss: 0.4055 - department_output_loss: 0.2487 - attrition_output_loss: 0.1568 - department_output_accuracy: 0.9174 - attrition_output_accuracy: 0.9401 - 70ms/epoch - 2ms/step\n",
            "Epoch 48/100\n",
            "35/35 - 0s - loss: 0.3921 - department_output_loss: 0.2363 - attrition_output_loss: 0.1558 - department_output_accuracy: 0.9328 - attrition_output_accuracy: 0.9474 - 45ms/epoch - 1ms/step\n",
            "Epoch 49/100\n",
            "35/35 - 0s - loss: 0.3832 - department_output_loss: 0.2322 - attrition_output_loss: 0.1509 - department_output_accuracy: 0.9183 - attrition_output_accuracy: 0.9401 - 48ms/epoch - 1ms/step\n",
            "Epoch 50/100\n",
            "35/35 - 0s - loss: 0.3495 - department_output_loss: 0.2128 - attrition_output_loss: 0.1367 - department_output_accuracy: 0.9274 - attrition_output_accuracy: 0.9501 - 61ms/epoch - 2ms/step\n",
            "Epoch 51/100\n",
            "35/35 - 0s - loss: 0.3529 - department_output_loss: 0.2136 - attrition_output_loss: 0.1393 - department_output_accuracy: 0.9274 - attrition_output_accuracy: 0.9546 - 53ms/epoch - 2ms/step\n",
            "Epoch 52/100\n",
            "35/35 - 0s - loss: 0.3341 - department_output_loss: 0.1987 - attrition_output_loss: 0.1354 - department_output_accuracy: 0.9437 - attrition_output_accuracy: 0.9419 - 55ms/epoch - 2ms/step\n",
            "Epoch 53/100\n",
            "35/35 - 0s - loss: 0.3190 - department_output_loss: 0.1910 - attrition_output_loss: 0.1280 - department_output_accuracy: 0.9501 - attrition_output_accuracy: 0.9483 - 54ms/epoch - 2ms/step\n",
            "Epoch 54/100\n",
            "35/35 - 0s - loss: 0.3059 - department_output_loss: 0.1833 - attrition_output_loss: 0.1226 - department_output_accuracy: 0.9437 - attrition_output_accuracy: 0.9574 - 51ms/epoch - 1ms/step\n",
            "Epoch 55/100\n",
            "35/35 - 0s - loss: 0.2928 - department_output_loss: 0.1791 - attrition_output_loss: 0.1137 - department_output_accuracy: 0.9483 - attrition_output_accuracy: 0.9583 - 52ms/epoch - 1ms/step\n",
            "Epoch 56/100\n",
            "35/35 - 0s - loss: 0.2872 - department_output_loss: 0.1707 - attrition_output_loss: 0.1165 - department_output_accuracy: 0.9474 - attrition_output_accuracy: 0.9583 - 50ms/epoch - 1ms/step\n",
            "Epoch 57/100\n",
            "35/35 - 0s - loss: 0.2721 - department_output_loss: 0.1632 - attrition_output_loss: 0.1090 - department_output_accuracy: 0.9537 - attrition_output_accuracy: 0.9655 - 61ms/epoch - 2ms/step\n",
            "Epoch 58/100\n",
            "35/35 - 0s - loss: 0.2558 - department_output_loss: 0.1518 - attrition_output_loss: 0.1039 - department_output_accuracy: 0.9601 - attrition_output_accuracy: 0.9673 - 68ms/epoch - 2ms/step\n",
            "Epoch 59/100\n",
            "35/35 - 0s - loss: 0.2459 - department_output_loss: 0.1443 - attrition_output_loss: 0.1016 - department_output_accuracy: 0.9619 - attrition_output_accuracy: 0.9682 - 57ms/epoch - 2ms/step\n",
            "Epoch 60/100\n",
            "35/35 - 0s - loss: 0.2495 - department_output_loss: 0.1498 - attrition_output_loss: 0.0997 - department_output_accuracy: 0.9592 - attrition_output_accuracy: 0.9691 - 47ms/epoch - 1ms/step\n",
            "Epoch 61/100\n",
            "35/35 - 0s - loss: 0.2382 - department_output_loss: 0.1418 - attrition_output_loss: 0.0964 - department_output_accuracy: 0.9628 - attrition_output_accuracy: 0.9673 - 54ms/epoch - 2ms/step\n",
            "Epoch 62/100\n",
            "35/35 - 0s - loss: 0.2180 - department_output_loss: 0.1285 - attrition_output_loss: 0.0895 - department_output_accuracy: 0.9710 - attrition_output_accuracy: 0.9737 - 48ms/epoch - 1ms/step\n",
            "Epoch 63/100\n",
            "35/35 - 0s - loss: 0.2176 - department_output_loss: 0.1284 - attrition_output_loss: 0.0892 - department_output_accuracy: 0.9646 - attrition_output_accuracy: 0.9728 - 47ms/epoch - 1ms/step\n",
            "Epoch 64/100\n",
            "35/35 - 0s - loss: 0.2074 - department_output_loss: 0.1226 - attrition_output_loss: 0.0848 - department_output_accuracy: 0.9701 - attrition_output_accuracy: 0.9719 - 59ms/epoch - 2ms/step\n",
            "Epoch 65/100\n",
            "35/35 - 0s - loss: 0.2040 - department_output_loss: 0.1218 - attrition_output_loss: 0.0822 - department_output_accuracy: 0.9664 - attrition_output_accuracy: 0.9728 - 55ms/epoch - 2ms/step\n",
            "Epoch 66/100\n",
            "35/35 - 0s - loss: 0.1979 - department_output_loss: 0.1181 - attrition_output_loss: 0.0798 - department_output_accuracy: 0.9673 - attrition_output_accuracy: 0.9691 - 58ms/epoch - 2ms/step\n",
            "Epoch 67/100\n",
            "35/35 - 0s - loss: 0.1805 - department_output_loss: 0.1063 - attrition_output_loss: 0.0742 - department_output_accuracy: 0.9746 - attrition_output_accuracy: 0.9791 - 62ms/epoch - 2ms/step\n",
            "Epoch 68/100\n",
            "35/35 - 0s - loss: 0.1658 - department_output_loss: 0.0972 - attrition_output_loss: 0.0685 - department_output_accuracy: 0.9809 - attrition_output_accuracy: 0.9828 - 52ms/epoch - 1ms/step\n",
            "Epoch 69/100\n",
            "35/35 - 0s - loss: 0.1549 - department_output_loss: 0.0887 - attrition_output_loss: 0.0661 - department_output_accuracy: 0.9837 - attrition_output_accuracy: 0.9828 - 78ms/epoch - 2ms/step\n",
            "Epoch 70/100\n",
            "35/35 - 0s - loss: 0.1538 - department_output_loss: 0.0890 - attrition_output_loss: 0.0648 - department_output_accuracy: 0.9819 - attrition_output_accuracy: 0.9819 - 61ms/epoch - 2ms/step\n",
            "Epoch 71/100\n",
            "35/35 - 0s - loss: 0.1454 - department_output_loss: 0.0839 - attrition_output_loss: 0.0615 - department_output_accuracy: 0.9873 - attrition_output_accuracy: 0.9809 - 48ms/epoch - 1ms/step\n",
            "Epoch 72/100\n",
            "35/35 - 0s - loss: 0.1359 - department_output_loss: 0.0787 - attrition_output_loss: 0.0572 - department_output_accuracy: 0.9891 - attrition_output_accuracy: 0.9837 - 50ms/epoch - 1ms/step\n",
            "Epoch 73/100\n",
            "35/35 - 0s - loss: 0.1496 - department_output_loss: 0.0952 - attrition_output_loss: 0.0544 - department_output_accuracy: 0.9819 - attrition_output_accuracy: 0.9846 - 62ms/epoch - 2ms/step\n",
            "Epoch 74/100\n",
            "35/35 - 0s - loss: 0.1349 - department_output_loss: 0.0843 - attrition_output_loss: 0.0506 - department_output_accuracy: 0.9882 - attrition_output_accuracy: 0.9891 - 60ms/epoch - 2ms/step\n",
            "Epoch 75/100\n",
            "35/35 - 0s - loss: 0.1316 - department_output_loss: 0.0793 - attrition_output_loss: 0.0523 - department_output_accuracy: 0.9855 - attrition_output_accuracy: 0.9855 - 66ms/epoch - 2ms/step\n",
            "Epoch 76/100\n",
            "35/35 - 0s - loss: 0.1312 - department_output_loss: 0.0832 - attrition_output_loss: 0.0479 - department_output_accuracy: 0.9809 - attrition_output_accuracy: 0.9882 - 47ms/epoch - 1ms/step\n",
            "Epoch 77/100\n",
            "35/35 - 0s - loss: 0.1150 - department_output_loss: 0.0693 - attrition_output_loss: 0.0457 - department_output_accuracy: 0.9918 - attrition_output_accuracy: 0.9891 - 47ms/epoch - 1ms/step\n",
            "Epoch 78/100\n",
            "35/35 - 0s - loss: 0.1081 - department_output_loss: 0.0650 - attrition_output_loss: 0.0431 - department_output_accuracy: 0.9909 - attrition_output_accuracy: 0.9900 - 49ms/epoch - 1ms/step\n",
            "Epoch 79/100\n",
            "35/35 - 0s - loss: 0.0990 - department_output_loss: 0.0568 - attrition_output_loss: 0.0423 - department_output_accuracy: 0.9927 - attrition_output_accuracy: 0.9909 - 50ms/epoch - 1ms/step\n",
            "Epoch 80/100\n",
            "35/35 - 0s - loss: 0.1033 - department_output_loss: 0.0617 - attrition_output_loss: 0.0415 - department_output_accuracy: 0.9918 - attrition_output_accuracy: 0.9909 - 50ms/epoch - 1ms/step\n",
            "Epoch 81/100\n",
            "35/35 - 0s - loss: 0.1015 - department_output_loss: 0.0566 - attrition_output_loss: 0.0449 - department_output_accuracy: 0.9900 - attrition_output_accuracy: 0.9891 - 56ms/epoch - 2ms/step\n",
            "Epoch 82/100\n",
            "35/35 - 0s - loss: 0.0930 - department_output_loss: 0.0555 - attrition_output_loss: 0.0375 - department_output_accuracy: 0.9918 - attrition_output_accuracy: 0.9891 - 51ms/epoch - 1ms/step\n",
            "Epoch 83/100\n",
            "35/35 - 0s - loss: 0.0857 - department_output_loss: 0.0497 - attrition_output_loss: 0.0360 - department_output_accuracy: 0.9955 - attrition_output_accuracy: 0.9918 - 50ms/epoch - 1ms/step\n",
            "Epoch 84/100\n",
            "35/35 - 0s - loss: 0.0841 - department_output_loss: 0.0504 - attrition_output_loss: 0.0338 - department_output_accuracy: 0.9927 - attrition_output_accuracy: 0.9936 - 49ms/epoch - 1ms/step\n",
            "Epoch 85/100\n",
            "35/35 - 0s - loss: 0.0783 - department_output_loss: 0.0452 - attrition_output_loss: 0.0331 - department_output_accuracy: 0.9946 - attrition_output_accuracy: 0.9927 - 47ms/epoch - 1ms/step\n",
            "Epoch 86/100\n",
            "35/35 - 0s - loss: 0.0724 - department_output_loss: 0.0422 - attrition_output_loss: 0.0302 - department_output_accuracy: 0.9973 - attrition_output_accuracy: 0.9927 - 70ms/epoch - 2ms/step\n",
            "Epoch 87/100\n",
            "35/35 - 0s - loss: 0.0738 - department_output_loss: 0.0405 - attrition_output_loss: 0.0333 - department_output_accuracy: 0.9964 - attrition_output_accuracy: 0.9909 - 51ms/epoch - 1ms/step\n",
            "Epoch 88/100\n",
            "35/35 - 0s - loss: 0.0675 - department_output_loss: 0.0404 - attrition_output_loss: 0.0272 - department_output_accuracy: 0.9936 - attrition_output_accuracy: 0.9955 - 46ms/epoch - 1ms/step\n",
            "Epoch 89/100\n",
            "35/35 - 0s - loss: 0.0666 - department_output_loss: 0.0418 - attrition_output_loss: 0.0248 - department_output_accuracy: 0.9973 - attrition_output_accuracy: 0.9964 - 49ms/epoch - 1ms/step\n",
            "Epoch 90/100\n",
            "35/35 - 0s - loss: 0.0775 - department_output_loss: 0.0499 - attrition_output_loss: 0.0276 - department_output_accuracy: 0.9927 - attrition_output_accuracy: 0.9955 - 55ms/epoch - 2ms/step\n",
            "Epoch 91/100\n",
            "35/35 - 0s - loss: 0.0873 - department_output_loss: 0.0609 - attrition_output_loss: 0.0264 - department_output_accuracy: 0.9846 - attrition_output_accuracy: 0.9946 - 60ms/epoch - 2ms/step\n",
            "Epoch 92/100\n",
            "35/35 - 0s - loss: 0.0750 - department_output_loss: 0.0497 - attrition_output_loss: 0.0253 - department_output_accuracy: 0.9900 - attrition_output_accuracy: 0.9964 - 57ms/epoch - 2ms/step\n",
            "Epoch 93/100\n",
            "35/35 - 0s - loss: 0.0791 - department_output_loss: 0.0538 - attrition_output_loss: 0.0254 - department_output_accuracy: 0.9846 - attrition_output_accuracy: 0.9955 - 57ms/epoch - 2ms/step\n",
            "Epoch 94/100\n",
            "35/35 - 0s - loss: 0.0899 - department_output_loss: 0.0645 - attrition_output_loss: 0.0254 - department_output_accuracy: 0.9855 - attrition_output_accuracy: 0.9964 - 47ms/epoch - 1ms/step\n",
            "Epoch 95/100\n",
            "35/35 - 0s - loss: 0.0953 - department_output_loss: 0.0711 - attrition_output_loss: 0.0242 - department_output_accuracy: 0.9828 - attrition_output_accuracy: 0.9973 - 51ms/epoch - 1ms/step\n",
            "Epoch 96/100\n",
            "35/35 - 0s - loss: 0.0743 - department_output_loss: 0.0519 - attrition_output_loss: 0.0224 - department_output_accuracy: 0.9900 - attrition_output_accuracy: 0.9973 - 46ms/epoch - 1ms/step\n",
            "Epoch 97/100\n",
            "35/35 - 0s - loss: 0.0611 - department_output_loss: 0.0418 - attrition_output_loss: 0.0193 - department_output_accuracy: 0.9936 - attrition_output_accuracy: 0.9973 - 51ms/epoch - 1ms/step\n",
            "Epoch 98/100\n",
            "35/35 - 0s - loss: 0.0520 - department_output_loss: 0.0326 - attrition_output_loss: 0.0194 - department_output_accuracy: 0.9946 - attrition_output_accuracy: 0.9982 - 51ms/epoch - 1ms/step\n",
            "Epoch 99/100\n",
            "35/35 - 0s - loss: 0.0661 - department_output_loss: 0.0479 - attrition_output_loss: 0.0182 - department_output_accuracy: 0.9927 - attrition_output_accuracy: 0.9964 - 45ms/epoch - 1ms/step\n",
            "Epoch 100/100\n",
            "35/35 - 0s - loss: 0.0509 - department_output_loss: 0.0326 - attrition_output_loss: 0.0182 - department_output_accuracy: 0.9927 - attrition_output_accuracy: 0.9973 - 50ms/epoch - 1ms/step\n"
          ]
        },
        {
          "output_type": "execute_result",
          "data": {
            "text/plain": [
              "<keras.src.callbacks.History at 0x7cda5f23a410>"
            ]
          },
          "metadata": {},
          "execution_count": 14
        }
      ],
      "source": [
        "# Train the model\n",
        "model.fit(X_train_scaled, {'department_output': y_train_encoded_Department, 'attrition_output': y_train_encoded_Attrition}, epochs=100, shuffle=True, verbose=2)\n"
      ]
    },
    {
      "cell_type": "code",
      "execution_count": 15,
      "metadata": {
        "colab": {
          "base_uri": "https://localhost:8080/"
        },
        "id": "VsMoaQlgGc3U",
        "outputId": "23442f59-0013-4514-976b-c12b999ade67"
      },
      "outputs": [
        {
          "output_type": "stream",
          "name": "stdout",
          "text": [
            "12/12 - 0s - loss: 4.4648 - department_output_loss: 3.3416 - attrition_output_loss: 1.1233 - department_output_accuracy: 0.4918 - attrition_output_accuracy: 0.8505 - 245ms/epoch - 20ms/step\n",
            "[4.464828014373779, 3.3415699005126953, 1.1232587099075317, 0.49184781312942505, 0.8505434989929199]\n"
          ]
        }
      ],
      "source": [
        "# Evaluate the model with the testing data\n",
        "results = model.evaluate(X_test_scaled, {'department_output': y_test_encoded_Department, 'attrition_output': y_test_encoded_Attrition}, verbose=2)\n",
        "print(results)"
      ]
    },
    {
      "cell_type": "code",
      "execution_count": 16,
      "metadata": {
        "colab": {
          "base_uri": "https://localhost:8080/"
        },
        "id": "ZlCtlHi0Vt54",
        "outputId": "639d6178-7f69-44ca-d923-8cb0678a3e25"
      },
      "outputs": [
        {
          "output_type": "stream",
          "name": "stdout",
          "text": [
            "Department Accuracy: 0.49184781312942505\n",
            "Attrition Accuracy: 0.8505434989929199\n"
          ]
        }
      ],
      "source": [
        "# Print the accuracy for both department and attrition\n",
        "print(f\"Department Accuracy: {results[3]}\")\n",
        "print(f\"Attrition Accuracy: {results[4]}\")"
      ]
    },
    {
      "cell_type": "markdown",
      "metadata": {
        "id": "eGSyfsZfWOQM"
      },
      "source": [
        "# Summary\n",
        "\n",
        "In the provided space below, briefly answer the following questions.\n",
        "\n",
        "1. Is accuracy the best metric to use on this data? Why or why not?\n",
        "\n",
        "2. What activation functions did you choose for your output layers, and why?\n",
        "\n",
        "3. Can you name a few ways that this model might be improved?"
      ]
    },
    {
      "cell_type": "markdown",
      "metadata": {
        "id": "pi9SLpFnWvbF"
      },
      "source": [
        "YOUR ANSWERS HERE\n",
        "\n",
        "1. I think accuracy can be used in this model to evaluate the model's performance. This is a good result, but there is still room for improvement. The model can be further optimized by tuning the hyperparameters, increasing the number of epochs, or adding more layers to the neural network. Additionally, more data can be collected to improve the model's performance. Overall, the model is a good starting point for HR to predict employee attrition and department fit.\n",
        "2. I chose relu for shared layer because it is a good activation function for hidden layers in neural networks. I chose sigmoid for the attrition output layer because it is a good activation function for binary classification problems. It squashes the output to a range between 0 and 1, which is useful for predicting probabilities. I chose softmax for the department output layer because it is a good activation function for multi-class classification problems. It squashes the output to a range between 0 and 1, which is useful for predicting probabilities. Additionally, it ensures that the sum of the output values is equal to 1, which is useful for interpreting the results.\n",
        "3. A model might be improved by increasing the number of epochs, adding more layers to the neural network, or tuning the hyperparameters. Additionally, more data can be collected to improve the model's performance. Overall, the model is a good starting point for HR to predict employee attrition and department fit."
      ]
    },
    {
      "cell_type": "markdown",
      "metadata": {
        "id": "yG0qNmKW-uTs"
      },
      "source": []
    }
  ],
  "metadata": {
    "colab": {
      "provenance": [],
      "include_colab_link": true
    },
    "kernelspec": {
      "display_name": "Python 3",
      "language": "python",
      "name": "python3"
    },
    "language_info": {
      "codemirror_mode": {
        "name": "ipython",
        "version": 3
      },
      "file_extension": ".py",
      "mimetype": "text/x-python",
      "name": "python",
      "nbconvert_exporter": "python",
      "pygments_lexer": "ipython3",
      "version": "3.9.18"
    },
    "vscode": {
      "interpreter": {
        "hash": "31f2aee4e71d21fbe5cf8b01ff0e069b9275f58929596ceb00d14d90e3e16cd6"
      }
    }
  },
  "nbformat": 4,
  "nbformat_minor": 0
}